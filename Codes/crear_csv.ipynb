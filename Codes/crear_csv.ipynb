{
 "cells": [
  {
   "cell_type": "markdown",
   "metadata": {},
   "source": [
    "# <font color=\"purple\">**Proyecto: Consumo de alcohol en estudiantes**</font>\n",
    "\n",
    "### Angelica Nayeli Rivas Bedolla"
   ]
  },
  {
   "cell_type": "markdown",
   "metadata": {},
   "source": [
    "## Librerías"
   ]
  },
  {
   "cell_type": "code",
   "execution_count": 1,
   "metadata": {},
   "outputs": [],
   "source": [
    "import pandas as pd\n",
    "\n",
    "from sklearn.preprocessing import LabelEncoder"
   ]
  },
  {
   "cell_type": "markdown",
   "metadata": {},
   "source": [
    "## Funciones"
   ]
  },
  {
   "cell_type": "code",
   "execution_count": 2,
   "metadata": {},
   "outputs": [],
   "source": [
    "lb = LabelEncoder()\n",
    "\n",
    "def transformColumn(col):\n",
    "    return lb.fit_transform(col)"
   ]
  },
  {
   "cell_type": "code",
   "execution_count": 3,
   "metadata": {},
   "outputs": [],
   "source": [
    "def combinar_datos(port, math):\n",
    "    # data1 es portuguese\n",
    "    data1 =  port.copy(deep=True)\n",
    "    # data2 es mathematics\n",
    "    data2 =  math.copy(deep=True)\n",
    "    \n",
    "    ############\n",
    "    ###PART 1###\n",
    "    ############\n",
    "    # Insertar columnas de 1's para indicar qué cursan\n",
    "    data1[\"c\"] = 1\n",
    "    my_column = data1.pop('c')\n",
    "    data1.insert(data1.shape[1]-3, my_column.name, my_column)\n",
    "\n",
    "    data2[\"c\"] = 1\n",
    "    my_column = data2.pop('c')\n",
    "    data2.insert(data2.shape[1]-3, my_column.name, my_column)\n",
    "    \n",
    "    ############\n",
    "    ###PART 2###\n",
    "    ############\n",
    "    # Hacer un merge\n",
    "    idk = list(data1.columns[:-3])\n",
    "    idk.pop(17)\n",
    "    idk.pop(idk.index(\"c\"))\n",
    "    d3 = pd.merge(data1, data2, on=idk, suffixes=['_port', '_math'])\n",
    "    my_column = d3.pop('paid_math')\n",
    "    d3.insert(18, my_column.name, my_column)\n",
    "    my_column = d3.pop('c_math')\n",
    "    d3.insert(data2.shape[1]-2, my_column.name, my_column)\n",
    "    \n",
    "    ############\n",
    "    ###PART 3###\n",
    "    ############\n",
    "    # PORTUGUESE\n",
    "    ## Insertar columna de 0's para indicar que no cursa matematicas\n",
    "    data1[\"c_math\"] = 0\n",
    "    my_column = data1.pop('c_math')\n",
    "    data1.insert(data1.shape[1]-3, my_column.name, my_column)\n",
    "    \n",
    "    ## Agregar columnas de G1_math, G2_math y G3_math = 0 a port \n",
    "    data1[\"G1_math\"] = 0\n",
    "    data1[\"G2_math\"] = 0\n",
    "    data1[\"G3_math\"] = 0\n",
    "    \n",
    "    ## Agregar columna paid_math = no\n",
    "    data1[\"paid_math\"] = \"no\"\n",
    "    my_column = data1.pop('paid_math')\n",
    "    data1.insert(18, my_column.name, my_column)\n",
    "\n",
    "    # MATHEMATICS\n",
    "    ## Insertar columna de 0's para indicar que no cursa portugués\n",
    "    data2[\"c_port\"] = 0\n",
    "    my_column = data2.pop('c_port')\n",
    "    data2.insert(data2.shape[1]-4, my_column.name, my_column)\n",
    "    \n",
    "    # Agregar columnas de G1_port, G2_port y G3_port = 0 a math y ordenar \n",
    "    data2[\"G1_port\"] = 0\n",
    "    data2[\"G2_port\"] = 0\n",
    "    data2[\"G3_port\"] = 0\n",
    "    my_column1 = data2.pop('G1_port')\n",
    "    my_column2 = data2.pop('G2_port')\n",
    "    my_column3 = data2.pop('G3_port')\n",
    "    data2.insert(data2.shape[1]-3, my_column1.name, my_column1)\n",
    "    data2.insert(data2.shape[1]-3, my_column2.name, my_column2)\n",
    "    data2.insert(data2.shape[1]-3, my_column3.name, my_column3)\n",
    "    \n",
    "    # Agregar columna paid_port = no\n",
    "    data2[\"paid_port\"] = \"no\"\n",
    "    my_column = data2.pop('paid_port')\n",
    "    data2.insert(17, my_column.name, my_column)\n",
    "    \n",
    "    ############\n",
    "    ###PART 4###\n",
    "    ############\n",
    "    \n",
    "    ## Cambiar nombre a _port\n",
    "    data1.rename(columns={'c':'c_port', 'paid':'paid_port', 'G1':'G1_port', 'G2':'G2_port', 'G3':'G3_port'}, inplace=True)\n",
    "    \n",
    "    # Cambiar a _math\n",
    "    data2.rename(columns={'c':'c_math', 'paid':'paid_math', 'G1':'G1_math', 'G2':'G2_math', 'G3':'G3_math'}, inplace=True)\n",
    "    \n",
    "    ############\n",
    "    ###PART 5###\n",
    "    ############\n",
    "    # Concatenar\n",
    "    estudiantes = pd.concat([data1, data2], ignore_index=True, verify_integrity=True) # Registros repetidos\n",
    "    \n",
    "    ############\n",
    "    ###PART 6###\n",
    "    ############\n",
    "    # Borrar instancias repetidas\n",
    "    diferentes = [\"paid_port\", \"paid_math\", \"c_port\", \"c_math\", 'G1_port', 'G2_port','G3_port', 'G1_math','G2_math','G3_math']\n",
    "    estudiantes = estudiantes.drop_duplicates(estudiantes.columns[~estudiantes.columns.isin(diferentes)], keep=False)\n",
    "    \n",
    "    ############\n",
    "    ###PART 7###\n",
    "    ############\n",
    "    # Combinar datasets estudiantes y d3\n",
    "    estudiantes = estudiantes.append(d3, ignore_index=True)\n",
    "    estudiantes.reset_index()\n",
    "    \n",
    "    ############\n",
    "    ###PART 8###\n",
    "    ############\n",
    "    # Combinar Dalc y Walc como average\n",
    "    estudiantes[\"Alc\"] = (estudiantes[\"Dalc\"] + estudiantes[\"Walc\"])/2\n",
    "    \n",
    "    estudiantes.pop('Walc')\n",
    "    estudiantes.pop('Dalc')\n",
    "    \n",
    "    return estudiantes"
   ]
  },
  {
   "cell_type": "markdown",
   "metadata": {},
   "source": [
    "### Cargando datos"
   ]
  },
  {
   "cell_type": "code",
   "execution_count": 4,
   "metadata": {},
   "outputs": [],
   "source": [
    "math = pd.read_csv('../Data/student-mat.csv')\n",
    "port = pd.read_csv('../Data/student-por.csv')"
   ]
  },
  {
   "cell_type": "markdown",
   "metadata": {},
   "source": [
    "### Contexto:\n",
    "\n",
    "Los datos se obtuvieron en una encuesta de estudiantes de matemática y cursos de portugués en la escuela secundaria. Contiene mucha información social, de género y de estudio interesante sobre los estudiantes.\n",
    "\n",
    "### Contenido:\n",
    "\n",
    "Atributos para ambos conjuntos de datos de curso de matematicas y curso de lenguaje portugues:\n",
    "\n",
    "   1. school - escuela perteneciente (binario: 'GP' - Gabriel Pereira o 'MS' - Mousinho da Silveira)\n",
    "   2. sex - sexo del estudiante (binario: 'F' - femenino or 'M' - masculino)\n",
    "   3. age - edad del estudiante (numerico: desde 15 hasta 22)\n",
    "   4. address - tipo de vivienda del estudiante (binario: 'U' - urbano o 'R' - rural)\n",
    "   5. famsize - tamaño de la familia (binario: 'LE3' - menor o igual a 3 o 'GT3' - mayor que 3)\n",
    "   6. Pstatus - estado de convivencia de los padres (binario: 'T' - viven juntos o 'A' - apartados)\n",
    "   7. Medu - educacion de la madre (numerico: 0 - ninguno, 1 - educacion primaria (4to grado), 2 – 5to a 9no grado, 3 – educacion secundaria o 4 – educacion superior)\n",
    "   8. Fedu - educacion del padre (numerico: 0 - ninguno, 1 - educacion primaria (4to grado), 2 – 5to a 9no grado, 3 – educacion secundaria o 4 – educacion superior)\n",
    "   9. Mjob - trabajo de la madre (nominal: 'teacher' - profesor, 'health' - relacionados a salud, 'services' - sevicios civiles (e.g. administrativo o policia), 'at_home' - en casa  o 'other' - otro)\n",
    "   10. Fjob - trabajo del padre (nominal: 'teacher' - profesor, 'health' - relacionados a salud, 'services' - sevicios civiles (e.g. administrativo o policia), 'at_home' - en casa  o 'other' - otro)\n",
    "   11. reason - razon por la cual escogió la escuela (nominal: 'home' - cercano a casa, 'reputation' - repputacion de la escuela, 'course' - preferencia del curso o 'other' - otro)\n",
    "   12. guardian - tutor del estudiante (nominal: 'mother' - madre, 'father' - padre o 'other' - otro)\n",
    "   13. traveltime - tiempo de transporte de casa a escuela (numerico: 1 - <15 min., 2 - 15 hasta 30 min., 3 - 30 min. hasta 1 hora, or 4 - >1 hora)\n",
    "   14. studytime - tiempo semanal de estudio (numerico: 1 - <2 horas, 2 - 2 hasta 5 horas, 3 - 5 hasta 10 horas, o 4 - >10 horas)\n",
    "   15. failures - numero de clases fallidas (numerico: n si 1<=n<3, entonces 4)\n",
    "   16. schoolsup - soporte extra educacional (binario: yes - si o no)\n",
    "   17. famsup - soporte educacional familiar (binario: yes - si o no)\n",
    "   18. paid - asesorias extras pagadas para la respectiva materia. (binario: yes - si o no)\n",
    "   19. activities - actividades extra-curriculares (binario: yes - si o no)\n",
    "   20. nursery - asistió a la guarderia (binario: yes - si o no)\n",
    "   21. higher - quiere estudiar nivel superior educacional (binario: yes - si o no)\n",
    "   22. internet - acceso a Internet en casa (binario: yes - si o no)\n",
    "   23. romantic - en una relación romantica (binario: yes - si o no)\n",
    "   24. famrel - calidad de la relación familiar (numerico: desde 1 - muy mala hasta 5 - excelente)\n",
    "   25. freetime - tiempo libre después de la escuela (numerico: desde 1 - muy baja hasta 5 - muy alta)\n",
    "   26. goout - salir con amigos (numerico: desde 1 - muy baja hasta 5 - muy alta)\n",
    "   27. Dalc - consumo de alcohol entre semana (numerico: desde 1 - muy baja hasta 5 - muy alta)\n",
    "   28. Walc - consumo de alcohol en fin de semana (numerico: desde 1 - muy baja hasta 5 - muy alta)\n",
    "   29. health - estado de salud actual (numerico: desde 1 - muy mala hasta 5 - muy buena)\n",
    "   29. absences - numero de faltas en la escuela (numerico: desde 0 hasta 93)\n",
    "\n",
    "Estas calificaciones están relacionadas con la asignatura del curso, Matemáticas o Portugués:\n",
    "\n",
    "   31. G1 - calificacion de primer periodo (numerico: desde 0 hasta 20)\n",
    "   32. G2 - calificacion de segundo periodo (numerico: desde 0 hasta 20)\n",
    "   33. G3 - calificacion del periodo final (numerico: desde 0 hasta 20)\n",
    "\n",
    "Nota dicional: Existen varios estudiantes que pertenecen a ambos conjuntos de datos."
   ]
  },
  {
   "cell_type": "markdown",
   "metadata": {},
   "source": [
    "### Combinando datasets"
   ]
  },
  {
   "cell_type": "markdown",
   "metadata": {},
   "source": [
    "Por lo visto anteriormente, se necesita combinar ambos conjuntos de datos respetando paid, G1, G2 y G3 para cada dataset porque hay alumnos repetidos, añadiendo columnas para saber cuál materia está cursando. A parte, el objetivo de este estudio es predecir el consumo semanal del estudiante, por lo tanto se deben combinar ambas columnas. Y convertir a números los que son cadenas."
   ]
  },
  {
   "cell_type": "code",
   "execution_count": 5,
   "metadata": {},
   "outputs": [],
   "source": [
    "comb = combinar_datos(port, math)"
   ]
  },
  {
   "cell_type": "markdown",
   "metadata": {},
   "source": [
    "### Convertir con el label encoder los atributos categóricos y dejar como número los numéricos y binarios"
   ]
  },
  {
   "cell_type": "code",
   "execution_count": 6,
   "metadata": {},
   "outputs": [
    {
     "data": {
      "text/plain": [
       "school         object\n",
       "sex            object\n",
       "age             int64\n",
       "address        object\n",
       "famsize        object\n",
       "Pstatus        object\n",
       "Medu            int64\n",
       "Fedu            int64\n",
       "Mjob           object\n",
       "Fjob           object\n",
       "reason         object\n",
       "guardian       object\n",
       "traveltime      int64\n",
       "studytime       int64\n",
       "failures        int64\n",
       "schoolsup      object\n",
       "famsup         object\n",
       "paid_port      object\n",
       "paid_math      object\n",
       "activities     object\n",
       "nursery        object\n",
       "higher         object\n",
       "internet       object\n",
       "romantic       object\n",
       "famrel          int64\n",
       "freetime        int64\n",
       "goout           int64\n",
       "health          int64\n",
       "absences        int64\n",
       "c_port          int64\n",
       "c_math          int64\n",
       "G1_port         int64\n",
       "G2_port         int64\n",
       "G3_port         int64\n",
       "G1_math         int64\n",
       "G2_math         int64\n",
       "G3_math         int64\n",
       "Alc           float64\n",
       "dtype: object"
      ]
     },
     "execution_count": 6,
     "metadata": {},
     "output_type": "execute_result"
    }
   ],
   "source": [
    "comb.dtypes"
   ]
  },
  {
   "cell_type": "code",
   "execution_count": 7,
   "metadata": {},
   "outputs": [
    {
     "name": "stdout",
     "output_type": "stream",
     "text": [
      "school: {0: 'GP', 1: 'MS'}\n",
      "sex: {0: 'F', 1: 'M'}\n",
      "address: {0: 'R', 1: 'U'}\n",
      "famsize: {0: 'GT3', 1: 'LE3'}\n",
      "Pstatus: {0: 'A', 1: 'T'}\n",
      "Mjob: {0: 'at_home', 1: 'health', 2: 'other', 3: 'services', 4: 'teacher'}\n",
      "Fjob: {0: 'at_home', 1: 'health', 2: 'other', 3: 'services', 4: 'teacher'}\n",
      "reason: {0: 'course', 1: 'home', 2: 'other', 3: 'reputation'}\n",
      "guardian: {0: 'father', 1: 'mother', 2: 'other'}\n",
      "schoolsup: {0: 'no', 1: 'yes'}\n",
      "famsup: {0: 'no', 1: 'yes'}\n",
      "paid_port: {0: 'no', 1: 'yes'}\n",
      "paid_math: {0: 'no', 1: 'yes'}\n",
      "activities: {0: 'no', 1: 'yes'}\n",
      "nursery: {0: 'no', 1: 'yes'}\n",
      "higher: {0: 'no', 1: 'yes'}\n",
      "internet: {0: 'no', 1: 'yes'}\n",
      "romantic: {0: 'no', 1: 'yes'}\n"
     ]
    }
   ],
   "source": [
    "categoricos = [\"school\", \"sex\", \"address\", \"famsize\", \"Pstatus\", \"Mjob\", \"Fjob\", \"reason\", \"guardian\", \"schoolsup\", \"famsup\", \"paid_port\", \"paid_math\" ,\"activities\", \"nursery\", \"higher\", \"internet\", \"romantic\"]\n",
    "\n",
    "estudiantes = comb.copy(deep=True)\n",
    "\n",
    "for col in categoricos:\n",
    "    estudiantes[col] = comb[[col]].apply(transformColumn)\n",
    "    print(f\"{col}: { {e:i for e,i in enumerate(lb.classes_)} }\")\n",
    "\n",
    "for col in comb.columns[~estudiantes.columns.isin(categoricos)]:\n",
    "    estudiantes[col] = comb[col].astype(int)"
   ]
  },
  {
   "cell_type": "markdown",
   "metadata": {},
   "source": [
    "### Guardar datos en archivo csv"
   ]
  },
  {
   "cell_type": "code",
   "execution_count": 8,
   "metadata": {},
   "outputs": [],
   "source": [
    "estudiantes.to_csv(r'../Data/estudiantes.csv', index = False)"
   ]
  },
  {
   "cell_type": "markdown",
   "metadata": {},
   "source": [
    "# Referencias\n",
    "\n",
    "1. RSTOPUP. [Suma de dos columnas en una pandas dataframe](https://rstopup.com/suma-de-dos-columnas-en-una-pandas-dataframe.html).\n",
    "\n",
    "2. RIP Tutorial. [Pandas - Añadiendo una nueva columna](https://riptutorial.com/es/pandas/example/5958/anadiendo-una-nueva-column).\n",
    "\n",
    "3. Chris Albon. [Join And Merge Pandas Dataframe](https://chrisalbon.com/python/data_wrangling/pandas_join_merge_dataframe/).\n",
    "\n",
    "4. UCI Machine Learning. (2016). [Student Alcohol Consumptions](https://www.kaggle.com/uciml/student-alcohol-consumption).\n",
    "\n",
    "5. Daniel Rodríguez. (2018). [Eliminar registros duplicados en pandas](https://www.analyticslane.com/2018/06/20/eliminar-registros-duplicados-en-pandas/).\n",
    "\n",
    "6. Daniel Rodríguez. (2019). [¿Cómo cambiar el nombre de las columnas en Pandas?](https://www.analyticslane.com/2019/05/06/como-cambiar-el-nombre-de-las-columnas-en-pandas/).\n",
    "\n",
    "7. Daniel Rodríguez. (2019). [Seleccionar filas y columnas en Pandas con iloc y loc](https://www.analyticslane.com/2019/06/21/seleccionar-filas-y-columnas-en-pandas-con-iloc-y-loc/).\n",
    "\n",
    "8. Pandas Documentation. [Merge, join, and concatenate](https://pandas.pydata.org/pandas-docs/stable/user_guide/merging.html).\n",
    "\n",
    "9. Pandas Documentation. [pandas.DataFrame.drop_duplicates](https://pandas.pydata.org/pandas-docs/stable/reference/api/pandas.DataFrame.drop_duplicates.html).\n",
    "\n",
    "10. Pandas Documentation. [pandas.DataFrame.reset_index](https://pandas.pydata.org/pandas-docs/stable/reference/api/pandas.DataFrame.reset_index.html).\n",
    "\n",
    "11. Pandas Documentation. [pandas.DataFrame.sort_values](https://pandas.pydata.org/pandas-docs/stable/reference/api/pandas.DataFrame.sort_values.html).\n",
    "\n",
    "12. Pandas Documentation. [pandas.DataFrame.to_csv](https://pandas.pydata.org/pandas-docs/stable/reference/api/pandas.DataFrame.to_csv.html).\n",
    "\n",
    "13. Pandas Documentation. [export-dataframe-to-csv](https://datatofish.com/export-dataframe-to-csv/).\n",
    "\n",
    "14. Pandas Documentation. [pandas.DataFrame.append](https://pandas.pydata.org/pandas-docs/stable/reference/api/pandas.DataFrame.append.html).\n",
    "\n",
    "15. Scikit-learn Documentation. [sklearn.preprocessing.LabelEncoder](https://scikit-learn.org/stable/modules/generated/sklearn.preprocessing.LabelEncoder.html)."
   ]
  },
  {
   "cell_type": "code",
   "execution_count": null,
   "metadata": {},
   "outputs": [],
   "source": []
  }
 ],
 "metadata": {
  "kernelspec": {
   "display_name": "Python 3",
   "language": "python",
   "name": "python3"
  },
  "language_info": {
   "codemirror_mode": {
    "name": "ipython",
    "version": 3
   },
   "file_extension": ".py",
   "mimetype": "text/x-python",
   "name": "python",
   "nbconvert_exporter": "python",
   "pygments_lexer": "ipython3",
   "version": "3.7.3"
  }
 },
 "nbformat": 4,
 "nbformat_minor": 2
}
